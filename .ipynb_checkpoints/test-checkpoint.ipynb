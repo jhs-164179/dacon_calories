{
 "cells": [
  {
   "cell_type": "code",
   "execution_count": 1,
   "id": "6ae76fb8",
   "metadata": {},
   "outputs": [],
   "source": [
    "import pandas as pd\n",
    "import random\n",
    "import os\n",
    "import numpy as np\n",
    "import matplotlib.pyplot as plt\n",
    "import seaborn as sns\n",
    "\n",
    "from sklearn.preprocessing import LabelEncoder as le\n",
    "from sklearn.ensemble import GradientBoostingRegressor as gbr, RandomForestRegressor as rfc\n",
    "from xgboost import XGBRegressor as xgb\n",
    "from lightgbm import LGBMRegressor as lgbm\n",
    "\n",
    "from sklearn.metrics import mean_squared_error as mse\n",
    "from sklearn.model_selection import cross_val_score as cv"
   ]
  },
  {
   "cell_type": "code",
   "execution_count": 2,
   "id": "5d82e845",
   "metadata": {},
   "outputs": [],
   "source": [
    "def seed_everything(seed):\n",
    "    random.seed(seed)\n",
    "    os.environ['PYTHONHASHSEED'] = str(seed)\n",
    "    np.random.seed(seed)"
   ]
  },
  {
   "cell_type": "code",
   "execution_count": 3,
   "id": "88ac6f5e",
   "metadata": {},
   "outputs": [],
   "source": [
    "train = pd.read_csv('./dts/train.csv')\n",
    "test = pd.read_csv('./dts/test.csv')"
   ]
  },
  {
   "cell_type": "code",
   "execution_count": 4,
   "id": "f0418b11",
   "metadata": {},
   "outputs": [
    {
     "data": {
      "text/html": [
       "<div>\n",
       "<style scoped>\n",
       "    .dataframe tbody tr th:only-of-type {\n",
       "        vertical-align: middle;\n",
       "    }\n",
       "\n",
       "    .dataframe tbody tr th {\n",
       "        vertical-align: top;\n",
       "    }\n",
       "\n",
       "    .dataframe thead th {\n",
       "        text-align: right;\n",
       "    }\n",
       "</style>\n",
       "<table border=\"1\" class=\"dataframe\">\n",
       "  <thead>\n",
       "    <tr style=\"text-align: right;\">\n",
       "      <th></th>\n",
       "      <th>ID</th>\n",
       "      <th>Exercise_Duration</th>\n",
       "      <th>Body_Temperature(F)</th>\n",
       "      <th>BPM</th>\n",
       "      <th>Height(Feet)</th>\n",
       "      <th>Height(Remainder_Inches)</th>\n",
       "      <th>Weight(lb)</th>\n",
       "      <th>Weight_Status</th>\n",
       "      <th>Gender</th>\n",
       "      <th>Age</th>\n",
       "      <th>Calories_Burned</th>\n",
       "    </tr>\n",
       "  </thead>\n",
       "  <tbody>\n",
       "    <tr>\n",
       "      <th>0</th>\n",
       "      <td>TRAIN_0000</td>\n",
       "      <td>26.0</td>\n",
       "      <td>105.6</td>\n",
       "      <td>107.0</td>\n",
       "      <td>5.0</td>\n",
       "      <td>9.0</td>\n",
       "      <td>154.3</td>\n",
       "      <td>Normal Weight</td>\n",
       "      <td>F</td>\n",
       "      <td>45</td>\n",
       "      <td>166.0</td>\n",
       "    </tr>\n",
       "    <tr>\n",
       "      <th>1</th>\n",
       "      <td>TRAIN_0001</td>\n",
       "      <td>7.0</td>\n",
       "      <td>103.3</td>\n",
       "      <td>88.0</td>\n",
       "      <td>6.0</td>\n",
       "      <td>6.0</td>\n",
       "      <td>224.9</td>\n",
       "      <td>Overweight</td>\n",
       "      <td>M</td>\n",
       "      <td>50</td>\n",
       "      <td>33.0</td>\n",
       "    </tr>\n",
       "  </tbody>\n",
       "</table>\n",
       "</div>"
      ],
      "text/plain": [
       "           ID  Exercise_Duration  Body_Temperature(F)    BPM  Height(Feet)  \\\n",
       "0  TRAIN_0000               26.0                105.6  107.0           5.0   \n",
       "1  TRAIN_0001                7.0                103.3   88.0           6.0   \n",
       "\n",
       "   Height(Remainder_Inches)  Weight(lb)  Weight_Status Gender  Age  \\\n",
       "0                       9.0       154.3  Normal Weight      F   45   \n",
       "1                       6.0       224.9     Overweight      M   50   \n",
       "\n",
       "   Calories_Burned  \n",
       "0            166.0  \n",
       "1             33.0  "
      ]
     },
     "metadata": {},
     "output_type": "display_data"
    },
    {
     "data": {
      "text/html": [
       "<div>\n",
       "<style scoped>\n",
       "    .dataframe tbody tr th:only-of-type {\n",
       "        vertical-align: middle;\n",
       "    }\n",
       "\n",
       "    .dataframe tbody tr th {\n",
       "        vertical-align: top;\n",
       "    }\n",
       "\n",
       "    .dataframe thead th {\n",
       "        text-align: right;\n",
       "    }\n",
       "</style>\n",
       "<table border=\"1\" class=\"dataframe\">\n",
       "  <thead>\n",
       "    <tr style=\"text-align: right;\">\n",
       "      <th></th>\n",
       "      <th>ID</th>\n",
       "      <th>Exercise_Duration</th>\n",
       "      <th>Body_Temperature(F)</th>\n",
       "      <th>BPM</th>\n",
       "      <th>Height(Feet)</th>\n",
       "      <th>Height(Remainder_Inches)</th>\n",
       "      <th>Weight(lb)</th>\n",
       "      <th>Weight_Status</th>\n",
       "      <th>Gender</th>\n",
       "      <th>Age</th>\n",
       "    </tr>\n",
       "  </thead>\n",
       "  <tbody>\n",
       "    <tr>\n",
       "      <th>0</th>\n",
       "      <td>TEST_0000</td>\n",
       "      <td>26.0</td>\n",
       "      <td>105.1</td>\n",
       "      <td>107.0</td>\n",
       "      <td>5.0</td>\n",
       "      <td>1.0</td>\n",
       "      <td>114.6</td>\n",
       "      <td>Normal Weight</td>\n",
       "      <td>F</td>\n",
       "      <td>45</td>\n",
       "    </tr>\n",
       "    <tr>\n",
       "      <th>1</th>\n",
       "      <td>TEST_0001</td>\n",
       "      <td>29.0</td>\n",
       "      <td>104.9</td>\n",
       "      <td>111.0</td>\n",
       "      <td>6.0</td>\n",
       "      <td>2.0</td>\n",
       "      <td>198.4</td>\n",
       "      <td>Overweight</td>\n",
       "      <td>M</td>\n",
       "      <td>21</td>\n",
       "    </tr>\n",
       "  </tbody>\n",
       "</table>\n",
       "</div>"
      ],
      "text/plain": [
       "          ID  Exercise_Duration  Body_Temperature(F)    BPM  Height(Feet)  \\\n",
       "0  TEST_0000               26.0                105.1  107.0           5.0   \n",
       "1  TEST_0001               29.0                104.9  111.0           6.0   \n",
       "\n",
       "   Height(Remainder_Inches)  Weight(lb)  Weight_Status Gender  Age  \n",
       "0                       1.0       114.6  Normal Weight      F   45  \n",
       "1                       2.0       198.4     Overweight      M   21  "
      ]
     },
     "metadata": {},
     "output_type": "display_data"
    }
   ],
   "source": [
    "display(train.head(2), test.head(2))"
   ]
  },
  {
   "cell_type": "code",
   "execution_count": 5,
   "id": "325d199a",
   "metadata": {},
   "outputs": [],
   "source": [
    "train_x = train.drop(['ID','Calories_Burned'], axis=1)\n",
    "train_y = train['Calories_Burned']\n",
    "\n",
    "test_x = test.drop('ID', axis=1)"
   ]
  },
  {
   "cell_type": "code",
   "execution_count": 6,
   "id": "61eae666",
   "metadata": {},
   "outputs": [
    {
     "name": "stdout",
     "output_type": "stream",
     "text": [
      "['Weight_Status', 'Gender']\n"
     ]
    }
   ],
   "source": [
    "qual_col = []\n",
    "\n",
    "for i in range(len(train_x.dtypes)):\n",
    "    if (train_x.dtypes[i] == 'object'):\n",
    "        qual_col.append(train_x.columns[i])\n",
    "        \n",
    "print(qual_col)        "
   ]
  },
  {
   "cell_type": "code",
   "execution_count": 7,
   "id": "a26d27df",
   "metadata": {},
   "outputs": [],
   "source": [
    "for col in qual_col:\n",
    "    encoder = le()\n",
    "    encoder.fit(train_x[col])\n",
    "    train_x[col] = encoder.transform(train_x[col])\n",
    "    \n",
    "    for label in np.unique(test_x[col]):\n",
    "        if label not in encoder.classes_:\n",
    "            encoder.classes_ = np.append(encoder.classes_,label)\n",
    "            \n",
    "    test_x[col] = encoder.transform(test_x[col])"
   ]
  },
  {
   "cell_type": "code",
   "execution_count": 8,
   "id": "b923da74",
   "metadata": {},
   "outputs": [],
   "source": [
    "seed = 42\n",
    "\n",
    "seed_everything(seed)"
   ]
  },
  {
   "cell_type": "code",
   "execution_count": 9,
   "id": "ebc09921",
   "metadata": {},
   "outputs": [],
   "source": [
    "md_gbr = gbr(random_state=seed)\n",
    "md_rfc = rfc(random_state=seed)\n",
    "md_lgbm = lgbm(random_state=seed)\n",
    "md_xgb = xgb(random_state=seed)"
   ]
  },
  {
   "cell_type": "code",
   "execution_count": 10,
   "id": "a07729d1",
   "metadata": {},
   "outputs": [
    {
     "data": {
      "text/html": [
       "<style>#sk-container-id-1 {color: black;background-color: white;}#sk-container-id-1 pre{padding: 0;}#sk-container-id-1 div.sk-toggleable {background-color: white;}#sk-container-id-1 label.sk-toggleable__label {cursor: pointer;display: block;width: 100%;margin-bottom: 0;padding: 0.3em;box-sizing: border-box;text-align: center;}#sk-container-id-1 label.sk-toggleable__label-arrow:before {content: \"▸\";float: left;margin-right: 0.25em;color: #696969;}#sk-container-id-1 label.sk-toggleable__label-arrow:hover:before {color: black;}#sk-container-id-1 div.sk-estimator:hover label.sk-toggleable__label-arrow:before {color: black;}#sk-container-id-1 div.sk-toggleable__content {max-height: 0;max-width: 0;overflow: hidden;text-align: left;background-color: #f0f8ff;}#sk-container-id-1 div.sk-toggleable__content pre {margin: 0.2em;color: black;border-radius: 0.25em;background-color: #f0f8ff;}#sk-container-id-1 input.sk-toggleable__control:checked~div.sk-toggleable__content {max-height: 200px;max-width: 100%;overflow: auto;}#sk-container-id-1 input.sk-toggleable__control:checked~label.sk-toggleable__label-arrow:before {content: \"▾\";}#sk-container-id-1 div.sk-estimator input.sk-toggleable__control:checked~label.sk-toggleable__label {background-color: #d4ebff;}#sk-container-id-1 div.sk-label input.sk-toggleable__control:checked~label.sk-toggleable__label {background-color: #d4ebff;}#sk-container-id-1 input.sk-hidden--visually {border: 0;clip: rect(1px 1px 1px 1px);clip: rect(1px, 1px, 1px, 1px);height: 1px;margin: -1px;overflow: hidden;padding: 0;position: absolute;width: 1px;}#sk-container-id-1 div.sk-estimator {font-family: monospace;background-color: #f0f8ff;border: 1px dotted black;border-radius: 0.25em;box-sizing: border-box;margin-bottom: 0.5em;}#sk-container-id-1 div.sk-estimator:hover {background-color: #d4ebff;}#sk-container-id-1 div.sk-parallel-item::after {content: \"\";width: 100%;border-bottom: 1px solid gray;flex-grow: 1;}#sk-container-id-1 div.sk-label:hover label.sk-toggleable__label {background-color: #d4ebff;}#sk-container-id-1 div.sk-serial::before {content: \"\";position: absolute;border-left: 1px solid gray;box-sizing: border-box;top: 0;bottom: 0;left: 50%;z-index: 0;}#sk-container-id-1 div.sk-serial {display: flex;flex-direction: column;align-items: center;background-color: white;padding-right: 0.2em;padding-left: 0.2em;position: relative;}#sk-container-id-1 div.sk-item {position: relative;z-index: 1;}#sk-container-id-1 div.sk-parallel {display: flex;align-items: stretch;justify-content: center;background-color: white;position: relative;}#sk-container-id-1 div.sk-item::before, #sk-container-id-1 div.sk-parallel-item::before {content: \"\";position: absolute;border-left: 1px solid gray;box-sizing: border-box;top: 0;bottom: 0;left: 50%;z-index: -1;}#sk-container-id-1 div.sk-parallel-item {display: flex;flex-direction: column;z-index: 1;position: relative;background-color: white;}#sk-container-id-1 div.sk-parallel-item:first-child::after {align-self: flex-end;width: 50%;}#sk-container-id-1 div.sk-parallel-item:last-child::after {align-self: flex-start;width: 50%;}#sk-container-id-1 div.sk-parallel-item:only-child::after {width: 0;}#sk-container-id-1 div.sk-dashed-wrapped {border: 1px dashed gray;margin: 0 0.4em 0.5em 0.4em;box-sizing: border-box;padding-bottom: 0.4em;background-color: white;}#sk-container-id-1 div.sk-label label {font-family: monospace;font-weight: bold;display: inline-block;line-height: 1.2em;}#sk-container-id-1 div.sk-label-container {text-align: center;}#sk-container-id-1 div.sk-container {/* jupyter's `normalize.less` sets `[hidden] { display: none; }` but bootstrap.min.css set `[hidden] { display: none !important; }` so we also need the `!important` here to be able to override the default hidden behavior on the sphinx rendered scikit-learn.org. See: https://github.com/scikit-learn/scikit-learn/issues/21755 */display: inline-block !important;position: relative;}#sk-container-id-1 div.sk-text-repr-fallback {display: none;}</style><div id=\"sk-container-id-1\" class=\"sk-top-container\"><div class=\"sk-text-repr-fallback\"><pre>XGBRegressor(base_score=None, booster=None, callbacks=None,\n",
       "             colsample_bylevel=None, colsample_bynode=None,\n",
       "             colsample_bytree=None, early_stopping_rounds=None,\n",
       "             enable_categorical=False, eval_metric=None, feature_types=None,\n",
       "             gamma=None, gpu_id=None, grow_policy=None, importance_type=None,\n",
       "             interaction_constraints=None, learning_rate=None, max_bin=None,\n",
       "             max_cat_threshold=None, max_cat_to_onehot=None,\n",
       "             max_delta_step=None, max_depth=None, max_leaves=None,\n",
       "             min_child_weight=None, missing=nan, monotone_constraints=None,\n",
       "             n_estimators=100, n_jobs=None, num_parallel_tree=None,\n",
       "             predictor=None, random_state=42, ...)</pre><b>In a Jupyter environment, please rerun this cell to show the HTML representation or trust the notebook. <br />On GitHub, the HTML representation is unable to render, please try loading this page with nbviewer.org.</b></div><div class=\"sk-container\" hidden><div class=\"sk-item\"><div class=\"sk-estimator sk-toggleable\"><input class=\"sk-toggleable__control sk-hidden--visually\" id=\"sk-estimator-id-1\" type=\"checkbox\" checked><label for=\"sk-estimator-id-1\" class=\"sk-toggleable__label sk-toggleable__label-arrow\">XGBRegressor</label><div class=\"sk-toggleable__content\"><pre>XGBRegressor(base_score=None, booster=None, callbacks=None,\n",
       "             colsample_bylevel=None, colsample_bynode=None,\n",
       "             colsample_bytree=None, early_stopping_rounds=None,\n",
       "             enable_categorical=False, eval_metric=None, feature_types=None,\n",
       "             gamma=None, gpu_id=None, grow_policy=None, importance_type=None,\n",
       "             interaction_constraints=None, learning_rate=None, max_bin=None,\n",
       "             max_cat_threshold=None, max_cat_to_onehot=None,\n",
       "             max_delta_step=None, max_depth=None, max_leaves=None,\n",
       "             min_child_weight=None, missing=nan, monotone_constraints=None,\n",
       "             n_estimators=100, n_jobs=None, num_parallel_tree=None,\n",
       "             predictor=None, random_state=42, ...)</pre></div></div></div></div></div>"
      ],
      "text/plain": [
       "XGBRegressor(base_score=None, booster=None, callbacks=None,\n",
       "             colsample_bylevel=None, colsample_bynode=None,\n",
       "             colsample_bytree=None, early_stopping_rounds=None,\n",
       "             enable_categorical=False, eval_metric=None, feature_types=None,\n",
       "             gamma=None, gpu_id=None, grow_policy=None, importance_type=None,\n",
       "             interaction_constraints=None, learning_rate=None, max_bin=None,\n",
       "             max_cat_threshold=None, max_cat_to_onehot=None,\n",
       "             max_delta_step=None, max_depth=None, max_leaves=None,\n",
       "             min_child_weight=None, missing=nan, monotone_constraints=None,\n",
       "             n_estimators=100, n_jobs=None, num_parallel_tree=None,\n",
       "             predictor=None, random_state=42, ...)"
      ]
     },
     "execution_count": 10,
     "metadata": {},
     "output_type": "execute_result"
    }
   ],
   "source": [
    "md_gbr.fit(train_x, train_y)\n",
    "md_rfc.fit(train_x, train_y)\n",
    "md_lgbm.fit(train_x, train_y)\n",
    "md_xgb.fit(train_x, train_y)"
   ]
  },
  {
   "cell_type": "code",
   "execution_count": 11,
   "id": "f028dd6d",
   "metadata": {},
   "outputs": [
    {
     "name": "stdout",
     "output_type": "stream",
     "text": [
      "gbr\n",
      "3.3384837382279366\n",
      "rfc\n",
      "1.3107426342853632\n",
      "lgbm\n",
      "1.64810964633507\n",
      "xgb\n",
      "1.1603452941446832\n"
     ]
    }
   ],
   "source": [
    "print('gbr')\n",
    "print(mse(train_y,md_gbr.predict(train_x),squared=False))\n",
    "\n",
    "print('rfc')\n",
    "print(mse(train_y,md_rfc.predict(train_x),squared=False))\n",
    "\n",
    "print('lgbm')\n",
    "print(mse(train_y,md_lgbm.predict(train_x),squared=False))\n",
    "\n",
    "print('xgb')\n",
    "print(mse(train_y,md_xgb.predict(train_x),squared=False))"
   ]
  },
  {
   "cell_type": "code",
   "execution_count": 12,
   "id": "8a1a3629",
   "metadata": {},
   "outputs": [],
   "source": [
    "pred_gbr = md_gbr.predict(test_x)\n",
    "pred_rfc = md_rfc.predict(test_x)\n",
    "pred_lgbm = md_lgbm.predict(test_x)\n",
    "pred_xgb = md_xgb.predict(test_x)"
   ]
  },
  {
   "cell_type": "code",
   "execution_count": 13,
   "id": "76a0a095",
   "metadata": {},
   "outputs": [
    {
     "name": "stdout",
     "output_type": "stream",
     "text": [
      "mixed_model\n",
      "1.3082773098723783\n",
      "mixed_model_without_gbr\n",
      "0.9829675129389263\n"
     ]
    }
   ],
   "source": [
    "print('mixed_model')\n",
    "print(mse(train_y, (md_gbr.predict(train_x)+md_rfc.predict(train_x)+md_lgbm.predict(train_x)+md_xgb.predict(train_x))/4,squared=False))\n",
    "\n",
    "print('mixed_model_without_gbr')\n",
    "print(mse(train_y, (md_rfc.predict(train_x)+md_lgbm.predict(train_x)+md_xgb.predict(train_x))/3,squared=False))\n",
    "\n",
    "pred_blend = (pred_rfc+pred_lgbm+pred_xgb)/3"
   ]
  },
  {
   "cell_type": "code",
   "execution_count": 14,
   "id": "3f63c93b",
   "metadata": {},
   "outputs": [],
   "source": [
    "submission = pd.read_csv('./dts/sample_submission.csv')\n",
    "\n",
    "submission['Calories_Burned'] = pred_blend\n",
    "submission.to_csv('./submit_blend.csv', index=False)"
   ]
  },
  {
   "cell_type": "markdown",
   "id": "e78ae774",
   "metadata": {},
   "source": [
    "# RandomForest 튜닝"
   ]
  },
  {
   "cell_type": "code",
   "execution_count": 15,
   "id": "55bc272d",
   "metadata": {},
   "outputs": [
    {
     "name": "stdout",
     "output_type": "stream",
     "text": [
      "rfc_rmse\n",
      "1.2777856743745228\n",
      "rfc_cv\n",
      "\n",
      "cv rmse score mean\n",
      "3.662464497104242\n",
      "\n",
      "cv rmse score std\n",
      "0.21219883388618357\n"
     ]
    }
   ],
   "source": [
    "mod_rfc = rfc(n_estimators=500, max_depth=20, max_features=None,  random_state=42)\n",
    "mod_rfc.fit(train_x, train_y)\n",
    "\n",
    "print('rfc_rmse')\n",
    "pred_score = mod_rfc.predict(train_x)\n",
    "print(mse(train_y,pred_score,squared=False))\n",
    "# print()\n",
    "print('rfc_cv')\n",
    "cv_score = -cv(mod_rfc, train_x, train_y, scoring='neg_root_mean_squared_error' ,cv=5)\n",
    "# print('cv rmse score')\n",
    "# print(cv_score)\n",
    "print()\n",
    "print('cv rmse score mean')\n",
    "print(cv_score.mean())\n",
    "print()\n",
    "print('cv rmse score std')\n",
    "print(cv_score.std())"
   ]
  },
  {
   "cell_type": "code",
   "execution_count": 16,
   "id": "5354c0a7",
   "metadata": {
    "scrolled": false
   },
   "outputs": [
    {
     "data": {
      "text/plain": [
       "<function matplotlib.pyplot.show(close=None, block=None)>"
      ]
     },
     "execution_count": 16,
     "metadata": {},
     "output_type": "execute_result"
    },
    {
     "data": {
      "image/png": "[encoded data removed]",
      "text/plain": [
       "<Figure size 400x400 with 1 Axes>"
      ]
     },
     "metadata": {},
     "output_type": "display_data"
    }
   ],
   "source": [
    "imp_val = mod_rfc.feature_importances_\n",
    "imp = pd.Series(imp_val, index=train_x.columns).sort_values(ascending=False)\n",
    "\n",
    "plt.figure(figsize=(4,4))\n",
    "plt.title('Feature Importances RandomForest')\n",
    "sns.barplot(x=imp, y=imp.index)\n",
    "plt.show"
   ]
  },
  {
   "cell_type": "code",
   "execution_count": 155,
   "id": "113b767f",
   "metadata": {},
   "outputs": [
    {
     "name": "stdout",
     "output_type": "stream",
     "text": [
      "lgbm_rmse\n",
      "1.0069639002403203\n",
      "--------------------\n",
      "<lgbm_cv>\n",
      "\n",
      "cv rmse score mean\n",
      "1.7740671991454657\n",
      "\n",
      "cv rmse score std\n",
      "0.21322396255520532\n"
     ]
    }
   ],
   "source": [
    "mod_lgbm = lgbm(n_estimators=450, num_leaves=17, max_depth=9, reg_sqrt=True,\n",
    "                class_weight='balanced', reg_alpha=.15,\n",
    "                objective='root_mean_squared_error', random_state=42)\n",
    "mod_lgbm.fit(train_x, train_y)\n",
    "\n",
    "print('lgbm_rmse')\n",
    "pred_score = mod_lgbm.predict(train_x)\n",
    "print(mse(train_y,pred_score,squared=False))\n",
    "print('-'*20)\n",
    "print('<lgbm_cv>')\n",
    "cv_score = -cv(mod_lgbm, train_x, train_y, scoring='neg_root_mean_squared_error' ,cv=5)\n",
    "print()\n",
    "print('cv rmse score mean')\n",
    "print(cv_score.mean())\n",
    "print()\n",
    "print('cv rmse score std')\n",
    "print(cv_score.std())"
   ]
  },
  {
   "cell_type": "code",
   "execution_count": 153,
   "id": "cf8e7587",
   "metadata": {},
   "outputs": [
    {
     "data": {
      "text/plain": [
       "<function matplotlib.pyplot.show(close=None, block=None)>"
      ]
     },
     "execution_count": 153,
     "metadata": {},
     "output_type": "execute_result"
    },
    {
     "data": {
      "image/png": "[encoded data removed]",
      "text/plain": [
       "<Figure size 400x400 with 1 Axes>"
      ]
     },
     "metadata": {},
     "output_type": "display_data"
    }
   ],
   "source": [
    "imp_val = mod_lgbm.feature_importances_\n",
    "imp = pd.Series(imp_val, index=train_x.columns).sort_values(ascending=False)\n",
    "\n",
    "plt.figure(figsize=(4,4))\n",
    "plt.title('Feature Importances RandomForest')\n",
    "sns.barplot(x=imp, y=imp.index)\n",
    "plt.show"
   ]
  },
  {
   "cell_type": "code",
   "execution_count": 265,
   "id": "3d73a724",
   "metadata": {},
   "outputs": [
    {
     "data": {
      "text/html": [
       "<style>#sk-container-id-4 {color: black;background-color: white;}#sk-container-id-4 pre{padding: 0;}#sk-container-id-4 div.sk-toggleable {background-color: white;}#sk-container-id-4 label.sk-toggleable__label {cursor: pointer;display: block;width: 100%;margin-bottom: 0;padding: 0.3em;box-sizing: border-box;text-align: center;}#sk-container-id-4 label.sk-toggleable__label-arrow:before {content: \"▸\";float: left;margin-right: 0.25em;color: #696969;}#sk-container-id-4 label.sk-toggleable__label-arrow:hover:before {color: black;}#sk-container-id-4 div.sk-estimator:hover label.sk-toggleable__label-arrow:before {color: black;}#sk-container-id-4 div.sk-toggleable__content {max-height: 0;max-width: 0;overflow: hidden;text-align: left;background-color: #f0f8ff;}#sk-container-id-4 div.sk-toggleable__content pre {margin: 0.2em;color: black;border-radius: 0.25em;background-color: #f0f8ff;}#sk-container-id-4 input.sk-toggleable__control:checked~div.sk-toggleable__content {max-height: 200px;max-width: 100%;overflow: auto;}#sk-container-id-4 input.sk-toggleable__control:checked~label.sk-toggleable__label-arrow:before {content: \"▾\";}#sk-container-id-4 div.sk-estimator input.sk-toggleable__control:checked~label.sk-toggleable__label {background-color: #d4ebff;}#sk-container-id-4 div.sk-label input.sk-toggleable__control:checked~label.sk-toggleable__label {background-color: #d4ebff;}#sk-container-id-4 input.sk-hidden--visually {border: 0;clip: rect(1px 1px 1px 1px);clip: rect(1px, 1px, 1px, 1px);height: 1px;margin: -1px;overflow: hidden;padding: 0;position: absolute;width: 1px;}#sk-container-id-4 div.sk-estimator {font-family: monospace;background-color: #f0f8ff;border: 1px dotted black;border-radius: 0.25em;box-sizing: border-box;margin-bottom: 0.5em;}#sk-container-id-4 div.sk-estimator:hover {background-color: #d4ebff;}#sk-container-id-4 div.sk-parallel-item::after {content: \"\";width: 100%;border-bottom: 1px solid gray;flex-grow: 1;}#sk-container-id-4 div.sk-label:hover label.sk-toggleable__label {background-color: #d4ebff;}#sk-container-id-4 div.sk-serial::before {content: \"\";position: absolute;border-left: 1px solid gray;box-sizing: border-box;top: 0;bottom: 0;left: 50%;z-index: 0;}#sk-container-id-4 div.sk-serial {display: flex;flex-direction: column;align-items: center;background-color: white;padding-right: 0.2em;padding-left: 0.2em;position: relative;}#sk-container-id-4 div.sk-item {position: relative;z-index: 1;}#sk-container-id-4 div.sk-parallel {display: flex;align-items: stretch;justify-content: center;background-color: white;position: relative;}#sk-container-id-4 div.sk-item::before, #sk-container-id-4 div.sk-parallel-item::before {content: \"\";position: absolute;border-left: 1px solid gray;box-sizing: border-box;top: 0;bottom: 0;left: 50%;z-index: -1;}#sk-container-id-4 div.sk-parallel-item {display: flex;flex-direction: column;z-index: 1;position: relative;background-color: white;}#sk-container-id-4 div.sk-parallel-item:first-child::after {align-self: flex-end;width: 50%;}#sk-container-id-4 div.sk-parallel-item:last-child::after {align-self: flex-start;width: 50%;}#sk-container-id-4 div.sk-parallel-item:only-child::after {width: 0;}#sk-container-id-4 div.sk-dashed-wrapped {border: 1px dashed gray;margin: 0 0.4em 0.5em 0.4em;box-sizing: border-box;padding-bottom: 0.4em;background-color: white;}#sk-container-id-4 div.sk-label label {font-family: monospace;font-weight: bold;display: inline-block;line-height: 1.2em;}#sk-container-id-4 div.sk-label-container {text-align: center;}#sk-container-id-4 div.sk-container {/* jupyter's `normalize.less` sets `[hidden] { display: none; }` but bootstrap.min.css set `[hidden] { display: none !important; }` so we also need the `!important` here to be able to override the default hidden behavior on the sphinx rendered scikit-learn.org. See: https://github.com/scikit-learn/scikit-learn/issues/21755 */display: inline-block !important;position: relative;}#sk-container-id-4 div.sk-text-repr-fallback {display: none;}</style><div id=\"sk-container-id-4\" class=\"sk-top-container\"><div class=\"sk-text-repr-fallback\"><pre>XGBRegressor(base_score=None, booster=&#x27;gbtree&#x27;, callbacks=None,\n",
       "             colsample_bylevel=None, colsample_bynode=None,\n",
       "             colsample_bytree=None, early_stopping_rounds=None,\n",
       "             enable_categorical=False, eval_metric=None, feature_types=None,\n",
       "             gamma=None, gpu_id=None, grow_policy=None, importance_type=None,\n",
       "             interaction_constraints=None, learning_rate=None, max_bin=None,\n",
       "             max_cat_threshold=None, max_cat_to_onehot=None,\n",
       "             max_delta_step=None, max_depth=4, max_leaves=None,\n",
       "             min_child_weight=None, missing=nan, monotone_constraints=None,\n",
       "             n_estimators=500, n_jobs=None, num_parallel_tree=None,\n",
       "             predictor=None, random_state=42, ...)</pre><b>In a Jupyter environment, please rerun this cell to show the HTML representation or trust the notebook. <br />On GitHub, the HTML representation is unable to render, please try loading this page with nbviewer.org.</b></div><div class=\"sk-container\" hidden><div class=\"sk-item\"><div class=\"sk-estimator sk-toggleable\"><input class=\"sk-toggleable__control sk-hidden--visually\" id=\"sk-estimator-id-4\" type=\"checkbox\" checked><label for=\"sk-estimator-id-4\" class=\"sk-toggleable__label sk-toggleable__label-arrow\">XGBRegressor</label><div class=\"sk-toggleable__content\"><pre>XGBRegressor(base_score=None, booster=&#x27;gbtree&#x27;, callbacks=None,\n",
       "             colsample_bylevel=None, colsample_bynode=None,\n",
       "             colsample_bytree=None, early_stopping_rounds=None,\n",
       "             enable_categorical=False, eval_metric=None, feature_types=None,\n",
       "             gamma=None, gpu_id=None, grow_policy=None, importance_type=None,\n",
       "             interaction_constraints=None, learning_rate=None, max_bin=None,\n",
       "             max_cat_threshold=None, max_cat_to_onehot=None,\n",
       "             max_delta_step=None, max_depth=4, max_leaves=None,\n",
       "             min_child_weight=None, missing=nan, monotone_constraints=None,\n",
       "             n_estimators=500, n_jobs=None, num_parallel_tree=None,\n",
       "             predictor=None, random_state=42, ...)</pre></div></div></div></div></div>"
      ],
      "text/plain": [
       "XGBRegressor(base_score=None, booster='gbtree', callbacks=None,\n",
       "             colsample_bylevel=None, colsample_bynode=None,\n",
       "             colsample_bytree=None, early_stopping_rounds=None,\n",
       "             enable_categorical=False, eval_metric=None, feature_types=None,\n",
       "             gamma=None, gpu_id=None, grow_policy=None, importance_type=None,\n",
       "             interaction_constraints=None, learning_rate=None, max_bin=None,\n",
       "             max_cat_threshold=None, max_cat_to_onehot=None,\n",
       "             max_delta_step=None, max_depth=4, max_leaves=None,\n",
       "             min_child_weight=None, missing=nan, monotone_constraints=None,\n",
       "             n_estimators=500, n_jobs=None, num_parallel_tree=None,\n",
       "             predictor=None, random_state=42, ...)"
      ]
     },
     "execution_count": 265,
     "metadata": {},
     "output_type": "execute_result"
    }
   ],
   "source": [
    "mod_xgb"
   ]
  },
  {
   "cell_type": "code",
   "execution_count": 326,
   "id": "4288903f",
   "metadata": {
    "scrolled": true
   },
   "outputs": [
    {
     "name": "stdout",
     "output_type": "stream",
     "text": [
      "xgb_rmse\n",
      "0.554583913901256\n",
      "--------------------\n",
      "<xgb_cv>\n",
      "\n",
      "cv rmse score mean\n",
      "1.436433137839771\n",
      "\n",
      "cv rmse score std\n",
      "0.274662468588246\n",
      "--------------------\n",
      "0.881849223938515\n"
     ]
    }
   ],
   "source": [
    "mod_xgb = xgb(booster='gbtree', n_estimators=2000, reg_alpha=2, reg_lambda=2,\n",
    "              eval_metric='rmse', num_parallel_tree=3, eta=.1, max_depth=4, random_state=42)\n",
    "mod_xgb.fit(train_x, train_y)\n",
    "\n",
    "print('xgb_rmse')\n",
    "pred_score = mod_xgb.predict(train_x)\n",
    "print(mse(train_y,pred_score,squared=False))\n",
    "print('-'*20)\n",
    "print('<xgb_cv>')\n",
    "cv_score = -cv(mod_xgb, train_x, train_y, scoring='neg_root_mean_squared_error' ,cv=5)\n",
    "print()\n",
    "print('cv rmse score mean')\n",
    "print(cv_score.mean())\n",
    "print()\n",
    "print('cv rmse score std')\n",
    "print(cv_score.std())\n",
    "print('-'*20)\n",
    "print(cv_score.mean() - mse(train_y,pred_score,squared=False))"
   ]
  },
  {
   "cell_type": "code",
   "execution_count": null,
   "id": "ddd6d145",
   "metadata": {},
   "outputs": [],
   "source": [
    "submission = pd.read_csv('./dts/sample_submission.csv')\n",
    "\n",
    "submission['Calories_Burned'] = pred_blend\n",
    "submission.to_csv('./submit_blend.csv', index=False)"
   ]
  },
  {
   "cell_type": "code",
   "execution_count": 321,
   "id": "7cd02a47",
   "metadata": {},
   "outputs": [
    {
     "data": {
      "text/plain": [
       "array([167.36824 ,  33.0638  ,  23.469273, ...,  40.809284,  57.149944,\n",
       "        59.310047], dtype=float32)"
      ]
     },
     "execution_count": 321,
     "metadata": {},
     "output_type": "execute_result"
    }
   ],
   "source": [
    "mod_xgb.predict(train_x)"
   ]
  }
 ],
 "metadata": {
  "kernelspec": {
   "display_name": "Python 3 (ipykernel)",
   "language": "python",
   "name": "python3"
  },
  "language_info": {
   "codemirror_mode": {
    "name": "ipython",
    "version": 3
   },
   "file_extension": ".py",
   "mimetype": "text/x-python",
   "name": "python",
   "nbconvert_exporter": "python",
   "pygments_lexer": "ipython3",
   "version": "3.11.2"
  }
 },
 "nbformat": 4,
 "nbformat_minor": 5
}
